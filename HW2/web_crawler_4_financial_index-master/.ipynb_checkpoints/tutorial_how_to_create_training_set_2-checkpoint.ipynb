{
 "cells": [
  {
   "cell_type": "code",
   "execution_count": 14,
   "metadata": {},
   "outputs": [
    {
     "name": "stdout",
     "output_type": "stream",
     "text": [
      "4\n"
     ]
    }
   ],
   "source": [
    "from fuzzywuzzy import fuzz\n",
    "from fuzzywuzzy import process\n",
    "\n",
    "for i in range(1,2):\n",
    "    news_data={}\n",
    "    fp = open('./templates/news/'+str(i)+'.txt','r')# 有時候編碼有錯，要加,encoding=\"utf-8\"    \n",
    "    content = fp.read()\n",
    "    content = content.replace(\"\\n\", '')    \n",
    "    data_list = list(content.strip().split(' '))\n",
    "    for data in data_list:\n",
    "        data = data.split('/')\n",
    "        news_data.update({data[0]: data[1]})\n",
    "        \n",
    "    org_list = (k for k,v in news_data.items() if v == 'nt')\n",
    "    per_list = (k for k,v in news_data.items() if v == 'nr')\n",
    "    loc_list = (k for k,v in news_data.items() if v == 'ns')    \n",
    "    \n",
    "    \n",
    "    n = open('./templates/names.txt','r')# 有時候編碼有錯，要加,encoding=\"utf-8\"\n",
    "    t_names = n.read()\n",
    "    t_names = t_names.splitlines()\n",
    "    \n",
    "    o = open('./templates/orgs.txt','r')# 有時候編碼有錯，要加,encoding=\"utf-8\"\n",
    "    t_orgs = o.read()\n",
    "    t_orgs = t_orgs.splitlines()\n",
    "    \n",
    "    l = open('./templates/locs.txt','r')# 有時候編碼有錯，要加,encoding=\"utf-8\"\n",
    "    t_locs = l.read()\n",
    "    t_locs = t_locs.splitlines()\n",
    "    \n",
    "    for t_name in t_names:\n",
    "        for t_org in t_orgs:\n",
    "            for t_loc in t_locs:\n",
    "                for k,v in news_data.items():\n",
    "                    if v == 'nt':\n",
    "                        if\n",
    "        \n",
    "    \n",
    "\n",
    "    "
   ]
  },
  {
   "cell_type": "code",
   "execution_count": 3,
   "metadata": {},
   "outputs": [
    {
     "name": "stdout",
     "output_type": "stream",
     "text": [
      "删除的项为 : Taobao\n",
      "列表现在为 :  ['Google', 'Runoob']\n"
     ]
    }
   ],
   "source": [
    "list1 = ['Google', 'Runoob', 'Taobao']\n",
    "list_pop=list1.pop(2)\n",
    "print (\"删除的项为 :\", list_pop)\n",
    "print (\"列表现在为 : \", list1)"
   ]
  }
 ],
 "metadata": {
  "kernelspec": {
   "display_name": "Python 3",
   "language": "python",
   "name": "python3"
  },
  "language_info": {
   "codemirror_mode": {
    "name": "ipython",
    "version": 3
   },
   "file_extension": ".py",
   "mimetype": "text/x-python",
   "name": "python",
   "nbconvert_exporter": "python",
   "pygments_lexer": "ipython3",
   "version": "3.6.8"
  }
 },
 "nbformat": 4,
 "nbformat_minor": 2
}
